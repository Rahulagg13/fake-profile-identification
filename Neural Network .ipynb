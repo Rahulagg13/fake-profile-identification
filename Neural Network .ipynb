{
 "cells": [
  {
   "cell_type": "code",
   "execution_count": 4,
   "id": "7087fe63-eb1d-4ec0-ae24-f5baa551edf4",
   "metadata": {},
   "outputs": [
    {
     "name": "stderr",
     "output_type": "stream",
     "text": [
      "2023-09-26 10:18:55.823692: I tensorflow/tsl/cuda/cudart_stub.cc:28] Could not find cuda drivers on your machine, GPU will not be used.\n",
      "2023-09-26 10:18:57.176969: I tensorflow/tsl/cuda/cudart_stub.cc:28] Could not find cuda drivers on your machine, GPU will not be used.\n",
      "2023-09-26 10:18:57.179017: I tensorflow/core/platform/cpu_feature_guard.cc:182] This TensorFlow binary is optimized to use available CPU instructions in performance-critical operations.\n",
      "To enable the following instructions: AVX2 AVX512F FMA, in other operations, rebuild TensorFlow with the appropriate compiler flags.\n",
      "2023-09-26 10:19:00.865849: W tensorflow/compiler/tf2tensorrt/utils/py_utils.cc:38] TF-TRT Warning: Could not find TensorRT\n"
     ]
    }
   ],
   "source": [
    "import pandas as pd\n",
    "import numpy as np\n",
    "import matplotlib.pyplot as plt\n",
    "from sklearn.model_selection import train_test_split\n",
    "import keras\n",
    "from tensorflow.keras.models import Sequential\n",
    "from tensorflow.keras import optimizers\n",
    "from tensorflow.keras.layers import Dense, Dropout, Activation\n",
    "\n",
    "from tensorflow.keras import regularizers"
   ]
  },
  {
   "cell_type": "code",
   "execution_count": 6,
   "id": "b60b7401-1730-4865-9cf4-a1d23248b2ba",
   "metadata": {},
   "outputs": [],
   "source": [
    "df_users = pd.read_csv(\"Data/users.csv\")\n",
    "df_fusers = pd.read_csv(\"Data/fusers.csv\")"
   ]
  },
  {
   "cell_type": "code",
   "execution_count": 8,
   "id": "75ad6f00-f059-469a-911c-43bc5ead13bc",
   "metadata": {},
   "outputs": [
    {
     "name": "stdout",
     "output_type": "stream",
     "text": [
      "Number of genuine users\n",
      "1481\n",
      "Number of fake users\n",
      "1337\n"
     ]
    }
   ],
   "source": [
    "print(\"Number of genuine users\")\n",
    "print(len(df_users))\n",
    "\n",
    "print(\"Number of fake users\")\n",
    "print(len(df_fusers))"
   ]
  },
  {
   "cell_type": "code",
   "execution_count": 10,
   "id": "0bd16d67-ab65-416c-8bce-15cba76344a3",
   "metadata": {},
   "outputs": [],
   "source": [
    "#Creating numpy array of zeros for attribute isFake, here zero means fake user and 1 means genuine user\n",
    "fk = np.zeros(len(df_fusers))\n",
    "\n",
    "#creating an array of ones for isFake attribute\n",
    "ntFk = np.ones(len(df_users))\n",
    "\n",
    "#adding new attributes to the data frame of fake and genuine users\n",
    "df_fusers[\"isFake\"] = fk\n",
    "df_users[\"isFake\"] = ntFk"
   ]
  },
  {
   "cell_type": "code",
   "execution_count": 12,
   "id": "df2f9b7c-e407-49cd-b5f2-3ed0049ccf7a",
   "metadata": {},
   "outputs": [
    {
     "data": {
      "text/plain": [
       "[RangeIndex(start=0, stop=2818, step=1),\n",
       " Index(['id', 'name', 'screen_name', 'statuses_count', 'followers_count',\n",
       "        'friends_count', 'favourites_count', 'listed_count', 'created_at',\n",
       "        'url', 'lang', 'time_zone', 'location', 'default_profile',\n",
       "        'default_profile_image', 'geo_enabled', 'profile_image_url',\n",
       "        'profile_banner_url', 'profile_use_background_image',\n",
       "        'profile_background_image_url_https', 'profile_text_color',\n",
       "        'profile_image_url_https', 'profile_sidebar_border_color',\n",
       "        'profile_background_tile', 'profile_sidebar_fill_color',\n",
       "        'profile_background_image_url', 'profile_background_color',\n",
       "        'profile_link_color', 'utc_offset', 'protected', 'verified',\n",
       "        'description', 'updated', 'dataset', 'isFake'],\n",
       "       dtype='object')]"
      ]
     },
     "execution_count": 12,
     "metadata": {},
     "output_type": "execute_result"
    }
   ],
   "source": [
    "'''\n",
    "Creating one single data frame by concatenating the two data frames\n",
    "'''\n",
    "combine_d = pd.concat([df_fusers, df_users], ignore_index=True)\n",
    "\n",
    "combine_d.axes"
   ]
  },
  {
   "cell_type": "code",
   "execution_count": 14,
   "id": "f6ab2bda-992c-4036-bf3f-7e6e5bb37936",
   "metadata": {},
   "outputs": [],
   "source": [
    "combine_d.columns = combine_d.columns.str.strip()\n",
    "\n",
    "combine_d.axes\n",
    "#suffling the data\n",
    "combine_d = combine_d.sample(frac=1).reset_index(drop=True)\n"
   ]
  },
  {
   "cell_type": "code",
   "execution_count": 16,
   "id": "b7c39b33-449c-442a-bdd2-acb393572a4a",
   "metadata": {},
   "outputs": [],
   "source": [
    "combine_d.axes\n",
    "# Creating target variable\n",
    "target = combine_d.isFake"
   ]
  },
  {
   "cell_type": "code",
   "execution_count": 18,
   "id": "c2aab79e-fff5-4d42-85e6-be22bd55424b",
   "metadata": {},
   "outputs": [],
   "source": [
    "combine_d.drop([\"isFake\"], axis=1, inplace=True)\n",
    "input_X= combine_d"
   ]
  },
  {
   "cell_type": "code",
   "execution_count": 20,
   "id": "01dce989-95ac-4619-bec7-ebcf8405317b",
   "metadata": {},
   "outputs": [],
   "source": [
    "target.reset_index(drop=True, inplace=True)"
   ]
  },
  {
   "cell_type": "code",
   "execution_count": 22,
   "id": "c7d49cd5-25dc-44de-8f8c-026714930921",
   "metadata": {},
   "outputs": [],
   "source": [
    "# Below will create a mapping of language with numerical value\n",
    "language_ls = list(enumerate(np.unique(input_X[\"lang\"])))\n",
    "language_dict = {name : i for i, name in language_ls}\n",
    "input_X.loc[:, \"lang_num\"] = input_X[\"lang\"].map(lambda x: language_dict[x]).astype(int)\n",
    "\n",
    "input_X.drop([\"name\"], axis=1, inplace=True)"
   ]
  },
  {
   "cell_type": "code",
   "execution_count": 24,
   "id": "8e7f798f-01c3-40dd-ac29-ea3a67c9851c",
   "metadata": {},
   "outputs": [],
   "source": [
    "input_X = input_X[[\n",
    "    \"statuses_count\",\n",
    "    \"followers_count\",\n",
    "    \"friends_count\",\n",
    "    \"favourites_count\",\n",
    "    \"lang_num\",\n",
    "    \"listed_count\",\n",
    "    \"geo_enabled\",\n",
    "    \"utc_offset\",\n",
    "    \"profile_use_background_image\"\n",
    "                        ]]"
   ]
  },
  {
   "cell_type": "code",
   "execution_count": 26,
   "id": "03853bda-a993-4456-a820-8294d2e9a41d",
   "metadata": {},
   "outputs": [],
   "source": [
    "# imputing missing values with false\n",
    "input_X = input_X.replace(np.nan, 0)"
   ]
  },
  {
   "cell_type": "code",
   "execution_count": 28,
   "id": "10037d84-c5f1-401c-b66c-ff23a06f0936",
   "metadata": {},
   "outputs": [],
   "source": [
    "train_X, test_X, train_y, test_y = train_test_split(input_X, target, train_size=0.8, test_size=0.2, random_state=0)"
   ]
  },
  {
   "cell_type": "code",
   "execution_count": 30,
   "id": "82c5469b-43e1-42ab-afbd-a6d67e6f13ae",
   "metadata": {},
   "outputs": [
    {
     "name": "stdout",
     "output_type": "stream",
     "text": [
      "(2254, 9)\n",
      "(564, 9)\n",
      "(2254,)\n",
      "(564,)\n"
     ]
    }
   ],
   "source": [
    "\n",
    "print(train_X.shape)\n",
    "print(test_X.shape)\n",
    "print(train_y.shape)\n",
    "print(test_y.shape)"
   ]
  },
  {
   "cell_type": "code",
   "execution_count": 32,
   "id": "73650d5f-3ae9-42a7-8191-36467379e712",
   "metadata": {},
   "outputs": [],
   "source": [
    "from numpy.random import seed\n",
    "seed(1)"
   ]
  },
  {
   "cell_type": "code",
   "execution_count": 48,
   "id": "a0e56365-1a45-4828-889b-c08d0763dbf0",
   "metadata": {},
   "outputs": [
    {
     "name": "stdout",
     "output_type": "stream",
     "text": [
      "Epoch 1/8\n",
      "71/71 [==============================] - 1s 5ms/step - loss: 26.8752 - accuracy: 0.9410\n",
      "Epoch 2/8\n",
      "71/71 [==============================] - 0s 3ms/step - loss: 13.3151 - accuracy: 0.9831\n",
      "Epoch 3/8\n",
      "71/71 [==============================] - 0s 6ms/step - loss: 6.9645 - accuracy: 0.9769\n",
      "Epoch 4/8\n",
      "71/71 [==============================] - 0s 2ms/step - loss: 4.0402 - accuracy: 0.9641\n",
      "Epoch 5/8\n",
      "71/71 [==============================] - 0s 3ms/step - loss: 2.5662 - accuracy: 0.9308\n",
      "Epoch 6/8\n",
      "71/71 [==============================] - 0s 3ms/step - loss: 1.2160 - accuracy: 0.9579\n",
      "Epoch 7/8\n",
      "71/71 [==============================] - 0s 3ms/step - loss: 1.0767 - accuracy: 0.9898\n",
      "Epoch 8/8\n",
      "71/71 [==============================] - 0s 3ms/step - loss: 0.6189 - accuracy: 0.9916\n",
      "{'loss': [26.87519645690918, 13.315131187438965, 6.964498043060303, 4.040226459503174, 2.566215991973877, 1.2159788608551025, 1.076704502105713, 0.6189247965812683], 'accuracy': [0.9409937858581543, 0.9831410646438599, 0.9769299030303955, 0.9640638828277588, 0.9307897090911865, 0.9578527212142944, 0.9897959232330322, 0.9915705323219299]}\n"
     ]
    },
    {
     "data": {
      "image/png": "[encoded data removed]",
      "text/plain": [
       "<Figure size 640x480 with 1 Axes>"
      ]
     },
     "metadata": {},
     "output_type": "display_data"
    },
    {
     "data": {
      "image/png": "[encoded data removed]",
      "text/plain": [
       "<Figure size 640x480 with 1 Axes>"
      ]
     },
     "metadata": {},
     "output_type": "display_data"
    }
   ],
   "source": [
    "# Creating the model with one hidden layer \n",
    "model = Sequential()\n",
    "model.add(Dense(32, activation='relu', input_dim=9))\n",
    "model.add(Dense(64, input_dim=32,\n",
    "                kernel_regularizer=regularizers.l2(0.0079),\n",
    "                activity_regularizer=regularizers.l1(0.0026), activation='relu'))\n",
    "model.add(Dense(1, activation='sigmoid'))\n",
    "model.compile(optimizer='rmsprop',\n",
    "              loss='binary_crossentropy',\n",
    "              metrics=['accuracy'])\n",
    "\n",
    "history_data = model.fit(train_X, train_y, epochs=8)\n",
    "\n",
    "# Plot training & validation accuracy values\n",
    "plt.plot(history_data.history['accuracy'])\n",
    "plt.title('Model Accuracy')\n",
    "plt.ylabel('Accuracy')\n",
    "plt.xlabel('Epoch')\n",
    "plt.legend(['Train', 'Test'], loc='center right')\n",
    "plt.show()\n",
    "\n",
    "# Plot training & validation loss values\n",
    "plt.plot(history_data.history['loss'])\n",
    "plt.title('Model Loss')\n",
    "plt.ylabel('Loss')\n",
    "plt.xlabel('Epoch')\n",
    "plt.legend(['Train', 'Test'], loc='center right')\n",
    "plt.show()"
   ]
  },
  {
   "cell_type": "code",
   "execution_count": 50,
   "id": "1e0b09ed-b31f-40f8-a65c-ece435a8fc15",
   "metadata": {},
   "outputs": [
    {
     "name": "stdout",
     "output_type": "stream",
     "text": [
      "18/18 [==============================] - 0s 1ms/step - loss: 0.3138 - accuracy: 0.9911\n",
      "==================================================\n",
      "Accuracy for testing date 99.1134762763977\n",
      "==================================================\n"
     ]
    }
   ],
   "source": [
    "#Evaluating model on validation set\n",
    "sc, accuracy = model.evaluate(test_X, test_y)\n",
    "\n",
    "print(\"==================================================\")\n",
    "print(\"Accuracy for testing date\",accuracy*100 )\n",
    "print(\"==================================================\")"
   ]
  },
  {
   "cell_type": "code",
   "execution_count": null,
   "id": "9b0053ed-2426-4257-aacf-e9bea848fe82",
   "metadata": {},
   "outputs": [],
   "source": []
  }
 ],
 "metadata": {
  "kernelspec": {
   "display_name": "anaconda-panel-2023.05-py310",
   "language": "python",
   "name": "conda-env-anaconda-panel-2023.05-py310-py"
  },
  "language_info": {
   "codemirror_mode": {
    "name": "ipython",
    "version": 3
   },
   "file_extension": ".py",
   "mimetype": "text/x-python",
   "name": "python",
   "nbconvert_exporter": "python",
   "pygments_lexer": "ipython3",
   "version": "3.11.4"
  }
 },
 "nbformat": 4,
 "nbformat_minor": 5
}
